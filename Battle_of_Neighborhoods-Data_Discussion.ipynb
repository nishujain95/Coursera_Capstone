{
 "cells": [
  {
   "cell_type": "markdown",
   "metadata": {},
   "source": [
    "#                  The Battle of Neighborhoods"
   ]
  },
  {
   "cell_type": "markdown",
   "metadata": {},
   "source": [
    "## Business Problem"
   ]
  },
  {
   "cell_type": "markdown",
   "metadata": {},
   "source": [
    "A group of investors were planning to open an American restaurant in New York City. They wanted to know where is the best location for an American restaurant with least compeition. Based on this requirement, we will use data science tools and techniques to analyze data collected on borough and neighborhood and venues with category in American restaurants in New York City. We will try to find the optimal location for the American restaurant business using the analysis."
   ]
  },
  {
   "cell_type": "markdown",
   "metadata": {},
   "source": [
    "## Data section"
   ]
  },
  {
   "cell_type": "markdown",
   "metadata": {},
   "source": [
    "Borough and neighborhood data for New York City is retrieved from https://cocl.us/new_york_dataset which was provided by Coursera. Also this includes latitude and longitude information.\n",
    "\n",
    "To explore and target recommended location in New York City for restaurants business, we will access data through FourSquare API interface and arrange them as a dataframe for visualization. By merging data on borough and neighborhood data with venue details for American restaurants from FourSquare API interface, we will be able to recommend profitable restaurant investments."
   ]
  },
  {
   "cell_type": "code",
   "execution_count": null,
   "metadata": {
    "collapsed": true
   },
   "outputs": [],
   "source": []
  }
 ],
 "metadata": {
  "kernelspec": {
   "display_name": "Python 3",
   "language": "python",
   "name": "python3"
  },
  "language_info": {
   "codemirror_mode": {
    "name": "ipython",
    "version": 3
   },
   "file_extension": ".py",
   "mimetype": "text/x-python",
   "name": "python",
   "nbconvert_exporter": "python",
   "pygments_lexer": "ipython3",
   "version": "3.6.3"
  }
 },
 "nbformat": 4,
 "nbformat_minor": 2
}
